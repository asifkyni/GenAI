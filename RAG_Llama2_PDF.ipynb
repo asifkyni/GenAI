{
 "cells": [
  {
   "cell_type": "markdown",
   "id": "d46e258a-5940-4cf8-902d-b1ba2b0205c8",
   "metadata": {},
   "source": [
    "# <center> RAG - PDF Q&A Using Llama 2 </center>"
   ]
  },
  {
   "cell_type": "code",
   "execution_count": 26,
   "id": "ba5e7505-a9af-4db7-927c-946d7d4e1479",
   "metadata": {},
   "outputs": [
    {
     "name": "stdout",
     "output_type": "stream",
     "text": [
      "huggingface/tokenizers: The current process just got forked, after parallelism has already been used. Disabling parallelism to avoid deadlocks...\n",
      "To disable this warning, you can either:\n",
      "\t- Avoid using `tokenizers` before the fork if possible\n",
      "\t- Explicitly set the environment variable TOKENIZERS_PARALLELISM=(true | false)\n",
      "Requirement already satisfied: transformers==4.33.0 in /home/amehmood/Research/ls/envs/R24env/lib/python3.8/site-packages (4.33.0)\n",
      "Requirement already satisfied: accelerate==0.22.0 in /home/amehmood/Research/ls/envs/R24env/lib/python3.8/site-packages (0.22.0)\n",
      "Requirement already satisfied: einops==0.6.1 in /home/amehmood/Research/ls/envs/R24env/lib/python3.8/site-packages (0.6.1)\n",
      "Requirement already satisfied: langchain==0.0.300 in /home/amehmood/Research/ls/envs/R24env/lib/python3.8/site-packages (0.0.300)\n",
      "Requirement already satisfied: xformers==0.0.21 in /home/amehmood/Research/ls/envs/R24env/lib/python3.8/site-packages (0.0.21)\n",
      "Requirement already satisfied: bitsandbytes==0.41.1 in /home/amehmood/Research/ls/envs/R24env/lib/python3.8/site-packages (0.41.1)\n",
      "Requirement already satisfied: sentence_transformers==2.2.2 in /home/amehmood/Research/ls/envs/R24env/lib/python3.8/site-packages (2.2.2)\n",
      "Requirement already satisfied: chromadb==0.4.12 in /home/amehmood/Research/ls/envs/R24env/lib/python3.8/site-packages (0.4.12)\n",
      "Requirement already satisfied: filelock in /home/amehmood/Research/ls/envs/R24env/lib/python3.8/site-packages (from transformers==4.33.0) (3.13.1)\n",
      "Requirement already satisfied: huggingface-hub<1.0,>=0.15.1 in /home/amehmood/Research/ls/envs/R24env/lib/python3.8/site-packages (from transformers==4.33.0) (0.20.3)\n",
      "Requirement already satisfied: numpy>=1.17 in /home/amehmood/Research/ls/envs/R24env/lib/python3.8/site-packages (from transformers==4.33.0) (1.24.4)\n",
      "Requirement already satisfied: packaging>=20.0 in /home/amehmood/Research/ls/envs/R24env/lib/python3.8/site-packages (from transformers==4.33.0) (23.1)\n",
      "Requirement already satisfied: pyyaml>=5.1 in /home/amehmood/Research/ls/envs/R24env/lib/python3.8/site-packages (from transformers==4.33.0) (6.0.1)\n",
      "Requirement already satisfied: regex!=2019.12.17 in /home/amehmood/Research/ls/envs/R24env/lib/python3.8/site-packages (from transformers==4.33.0) (2023.12.25)\n",
      "Requirement already satisfied: requests in /home/amehmood/Research/ls/envs/R24env/lib/python3.8/site-packages (from transformers==4.33.0) (2.31.0)\n",
      "Requirement already satisfied: tokenizers!=0.11.3,<0.14,>=0.11.1 in /home/amehmood/Research/ls/envs/R24env/lib/python3.8/site-packages (from transformers==4.33.0) (0.13.3)\n",
      "Requirement already satisfied: safetensors>=0.3.1 in /home/amehmood/Research/ls/envs/R24env/lib/python3.8/site-packages (from transformers==4.33.0) (0.4.1)\n",
      "Requirement already satisfied: tqdm>=4.27 in /home/amehmood/Research/ls/envs/R24env/lib/python3.8/site-packages (from transformers==4.33.0) (4.66.1)\n",
      "Requirement already satisfied: psutil in /home/amehmood/Research/ls/envs/R24env/lib/python3.8/site-packages (from accelerate==0.22.0) (5.9.0)\n",
      "Requirement already satisfied: torch>=1.10.0 in /home/amehmood/Research/ls/envs/R24env/lib/python3.8/site-packages (from accelerate==0.22.0) (2.0.1)\n",
      "Requirement already satisfied: SQLAlchemy<3,>=1.4 in /home/amehmood/Research/ls/envs/R24env/lib/python3.8/site-packages (from langchain==0.0.300) (2.0.29)\n",
      "Requirement already satisfied: aiohttp<4.0.0,>=3.8.3 in /home/amehmood/Research/ls/envs/R24env/lib/python3.8/site-packages (from langchain==0.0.300) (3.9.0)\n",
      "Requirement already satisfied: anyio<4.0 in /home/amehmood/Research/ls/envs/R24env/lib/python3.8/site-packages (from langchain==0.0.300) (3.5.0)\n",
      "Requirement already satisfied: async-timeout<5.0.0,>=4.0.0 in /home/amehmood/Research/ls/envs/R24env/lib/python3.8/site-packages (from langchain==0.0.300) (4.0.3)\n",
      "Requirement already satisfied: dataclasses-json<0.7,>=0.5.7 in /home/amehmood/Research/ls/envs/R24env/lib/python3.8/site-packages (from langchain==0.0.300) (0.6.5)\n",
      "Requirement already satisfied: jsonpatch<2.0,>=1.33 in /home/amehmood/Research/ls/envs/R24env/lib/python3.8/site-packages (from langchain==0.0.300) (1.33)\n",
      "Requirement already satisfied: langsmith<0.1.0,>=0.0.38 in /home/amehmood/Research/ls/envs/R24env/lib/python3.8/site-packages (from langchain==0.0.300) (0.0.92)\n",
      "Requirement already satisfied: numexpr<3.0.0,>=2.8.4 in /home/amehmood/Research/ls/envs/R24env/lib/python3.8/site-packages (from langchain==0.0.300) (2.8.4)\n",
      "Requirement already satisfied: pydantic<3,>=1 in /home/amehmood/Research/ls/envs/R24env/lib/python3.8/site-packages (from langchain==0.0.300) (1.10.15)\n",
      "Requirement already satisfied: tenacity<9.0.0,>=8.1.0 in /home/amehmood/Research/ls/envs/R24env/lib/python3.8/site-packages (from langchain==0.0.300) (8.2.3)\n",
      "Requirement already satisfied: torchvision in /home/amehmood/Research/ls/envs/R24env/lib/python3.8/site-packages (from sentence_transformers==2.2.2) (0.15.2a0)\n",
      "Requirement already satisfied: scikit-learn in /home/amehmood/Research/ls/envs/R24env/lib/python3.8/site-packages (from sentence_transformers==2.2.2) (1.3.2)\n",
      "Requirement already satisfied: scipy in /home/amehmood/Research/ls/envs/R24env/lib/python3.8/site-packages (from sentence_transformers==2.2.2) (1.10.1)\n",
      "Requirement already satisfied: nltk in /home/amehmood/Research/ls/envs/R24env/lib/python3.8/site-packages (from sentence_transformers==2.2.2) (3.8.1)\n",
      "Requirement already satisfied: sentencepiece in /home/amehmood/Research/ls/envs/R24env/lib/python3.8/site-packages (from sentence_transformers==2.2.2) (0.2.0)\n",
      "Requirement already satisfied: chroma-hnswlib==0.7.3 in /home/amehmood/Research/ls/envs/R24env/lib/python3.8/site-packages (from chromadb==0.4.12) (0.7.3)\n",
      "Requirement already satisfied: fastapi<0.100.0,>=0.95.2 in /home/amehmood/Research/ls/envs/R24env/lib/python3.8/site-packages (from chromadb==0.4.12) (0.99.1)\n",
      "Requirement already satisfied: uvicorn>=0.18.3 in /home/amehmood/Research/ls/envs/R24env/lib/python3.8/site-packages (from uvicorn[standard]>=0.18.3->chromadb==0.4.12) (0.29.0)\n",
      "Requirement already satisfied: posthog>=2.4.0 in /home/amehmood/Research/ls/envs/R24env/lib/python3.8/site-packages (from chromadb==0.4.12) (3.5.0)\n",
      "Requirement already satisfied: typing-extensions>=4.5.0 in /home/amehmood/Research/ls/envs/R24env/lib/python3.8/site-packages (from chromadb==0.4.12) (4.10.0)\n",
      "Requirement already satisfied: pulsar-client>=3.1.0 in /home/amehmood/Research/ls/envs/R24env/lib/python3.8/site-packages (from chromadb==0.4.12) (3.5.0)\n",
      "Requirement already satisfied: onnxruntime>=1.14.1 in /home/amehmood/Research/ls/envs/R24env/lib/python3.8/site-packages (from chromadb==0.4.12) (1.17.3)\n",
      "Requirement already satisfied: pypika>=0.48.9 in /home/amehmood/Research/ls/envs/R24env/lib/python3.8/site-packages (from chromadb==0.4.12) (0.48.9)\n",
      "Requirement already satisfied: overrides>=7.3.1 in /home/amehmood/Research/ls/envs/R24env/lib/python3.8/site-packages (from chromadb==0.4.12) (7.4.0)\n",
      "Requirement already satisfied: importlib-resources in /home/amehmood/Research/ls/envs/R24env/lib/python3.8/site-packages (from chromadb==0.4.12) (6.1.1)\n",
      "Requirement already satisfied: bcrypt>=4.0.1 in /home/amehmood/Research/ls/envs/R24env/lib/python3.8/site-packages (from chromadb==0.4.12) (4.1.3)\n",
      "Requirement already satisfied: typer>=0.9.0 in /home/amehmood/Research/ls/envs/R24env/lib/python3.8/site-packages (from chromadb==0.4.12) (0.12.3)\n",
      "Requirement already satisfied: graphlib-backport>=1.0.3 in /home/amehmood/Research/ls/envs/R24env/lib/python3.8/site-packages (from chromadb==0.4.12) (1.1.0)\n",
      "Requirement already satisfied: sympy in /home/amehmood/Research/ls/envs/R24env/lib/python3.8/site-packages (from torch>=1.10.0->accelerate==0.22.0) (1.12)\n",
      "Requirement already satisfied: networkx in /home/amehmood/Research/ls/envs/R24env/lib/python3.8/site-packages (from torch>=1.10.0->accelerate==0.22.0) (3.1)\n",
      "Requirement already satisfied: jinja2 in /home/amehmood/Research/ls/envs/R24env/lib/python3.8/site-packages (from torch>=1.10.0->accelerate==0.22.0) (3.1.2)\n",
      "Requirement already satisfied: nvidia-cuda-nvrtc-cu11==11.7.99 in /home/amehmood/Research/ls/envs/R24env/lib/python3.8/site-packages (from torch>=1.10.0->accelerate==0.22.0) (11.7.99)\n",
      "Requirement already satisfied: nvidia-cuda-runtime-cu11==11.7.99 in /home/amehmood/Research/ls/envs/R24env/lib/python3.8/site-packages (from torch>=1.10.0->accelerate==0.22.0) (11.7.99)\n",
      "Requirement already satisfied: nvidia-cuda-cupti-cu11==11.7.101 in /home/amehmood/Research/ls/envs/R24env/lib/python3.8/site-packages (from torch>=1.10.0->accelerate==0.22.0) (11.7.101)\n",
      "Requirement already satisfied: nvidia-cudnn-cu11==8.5.0.96 in /home/amehmood/Research/ls/envs/R24env/lib/python3.8/site-packages (from torch>=1.10.0->accelerate==0.22.0) (8.5.0.96)\n",
      "Requirement already satisfied: nvidia-cublas-cu11==11.10.3.66 in /home/amehmood/Research/ls/envs/R24env/lib/python3.8/site-packages (from torch>=1.10.0->accelerate==0.22.0) (11.10.3.66)\n",
      "Requirement already satisfied: nvidia-cufft-cu11==10.9.0.58 in /home/amehmood/Research/ls/envs/R24env/lib/python3.8/site-packages (from torch>=1.10.0->accelerate==0.22.0) (10.9.0.58)\n",
      "Requirement already satisfied: nvidia-curand-cu11==10.2.10.91 in /home/amehmood/Research/ls/envs/R24env/lib/python3.8/site-packages (from torch>=1.10.0->accelerate==0.22.0) (10.2.10.91)\n",
      "Requirement already satisfied: nvidia-cusolver-cu11==11.4.0.1 in /home/amehmood/Research/ls/envs/R24env/lib/python3.8/site-packages (from torch>=1.10.0->accelerate==0.22.0) (11.4.0.1)\n",
      "Requirement already satisfied: nvidia-cusparse-cu11==11.7.4.91 in /home/amehmood/Research/ls/envs/R24env/lib/python3.8/site-packages (from torch>=1.10.0->accelerate==0.22.0) (11.7.4.91)\n",
      "Requirement already satisfied: nvidia-nccl-cu11==2.14.3 in /home/amehmood/Research/ls/envs/R24env/lib/python3.8/site-packages (from torch>=1.10.0->accelerate==0.22.0) (2.14.3)\n",
      "Requirement already satisfied: nvidia-nvtx-cu11==11.7.91 in /home/amehmood/Research/ls/envs/R24env/lib/python3.8/site-packages (from torch>=1.10.0->accelerate==0.22.0) (11.7.91)\n",
      "Requirement already satisfied: triton==2.0.0 in /home/amehmood/Research/ls/envs/R24env/lib/python3.8/site-packages (from torch>=1.10.0->accelerate==0.22.0) (2.0.0)\n",
      "Requirement already satisfied: setuptools in /home/amehmood/Research/ls/envs/R24env/lib/python3.8/site-packages (from nvidia-cublas-cu11==11.10.3.66->torch>=1.10.0->accelerate==0.22.0) (68.2.2)\n",
      "Requirement already satisfied: wheel in /home/amehmood/Research/ls/envs/R24env/lib/python3.8/site-packages (from nvidia-cublas-cu11==11.10.3.66->torch>=1.10.0->accelerate==0.22.0) (0.41.2)\n",
      "Requirement already satisfied: cmake in /home/amehmood/Research/ls/envs/R24env/lib/python3.8/site-packages (from triton==2.0.0->torch>=1.10.0->accelerate==0.22.0) (3.29.2)\n",
      "Requirement already satisfied: lit in /home/amehmood/Research/ls/envs/R24env/lib/python3.8/site-packages (from triton==2.0.0->torch>=1.10.0->accelerate==0.22.0) (18.1.4)\n",
      "Requirement already satisfied: attrs>=17.3.0 in /home/amehmood/Research/ls/envs/R24env/lib/python3.8/site-packages (from aiohttp<4.0.0,>=3.8.3->langchain==0.0.300) (23.1.0)\n",
      "Requirement already satisfied: multidict<7.0,>=4.5 in /home/amehmood/Research/ls/envs/R24env/lib/python3.8/site-packages (from aiohttp<4.0.0,>=3.8.3->langchain==0.0.300) (6.0.4)\n",
      "Requirement already satisfied: yarl<2.0,>=1.0 in /home/amehmood/Research/ls/envs/R24env/lib/python3.8/site-packages (from aiohttp<4.0.0,>=3.8.3->langchain==0.0.300) (1.9.3)\n",
      "Requirement already satisfied: frozenlist>=1.1.1 in /home/amehmood/Research/ls/envs/R24env/lib/python3.8/site-packages (from aiohttp<4.0.0,>=3.8.3->langchain==0.0.300) (1.4.0)\n",
      "Requirement already satisfied: aiosignal>=1.1.2 in /home/amehmood/Research/ls/envs/R24env/lib/python3.8/site-packages (from aiohttp<4.0.0,>=3.8.3->langchain==0.0.300) (1.2.0)\n",
      "Requirement already satisfied: idna>=2.8 in /home/amehmood/Research/ls/envs/R24env/lib/python3.8/site-packages (from anyio<4.0->langchain==0.0.300) (3.4)\n",
      "Requirement already satisfied: sniffio>=1.1 in /home/amehmood/Research/ls/envs/R24env/lib/python3.8/site-packages (from anyio<4.0->langchain==0.0.300) (1.3.0)\n",
      "Requirement already satisfied: marshmallow<4.0.0,>=3.18.0 in /home/amehmood/Research/ls/envs/R24env/lib/python3.8/site-packages (from dataclasses-json<0.7,>=0.5.7->langchain==0.0.300) (3.21.2)\n",
      "Requirement already satisfied: typing-inspect<1,>=0.4.0 in /home/amehmood/Research/ls/envs/R24env/lib/python3.8/site-packages (from dataclasses-json<0.7,>=0.5.7->langchain==0.0.300) (0.9.0)\n",
      "Requirement already satisfied: starlette<0.28.0,>=0.27.0 in /home/amehmood/Research/ls/envs/R24env/lib/python3.8/site-packages (from fastapi<0.100.0,>=0.95.2->chromadb==0.4.12) (0.27.0)\n",
      "Requirement already satisfied: fsspec>=2023.5.0 in /home/amehmood/Research/ls/envs/R24env/lib/python3.8/site-packages (from huggingface-hub<1.0,>=0.15.1->transformers==4.33.0) (2023.10.0)\n",
      "Requirement already satisfied: jsonpointer>=1.9 in /home/amehmood/Research/ls/envs/R24env/lib/python3.8/site-packages (from jsonpatch<2.0,>=1.33->langchain==0.0.300) (2.4)\n",
      "Requirement already satisfied: coloredlogs in /home/amehmood/Research/ls/envs/R24env/lib/python3.8/site-packages (from onnxruntime>=1.14.1->chromadb==0.4.12) (15.0.1)\n",
      "Requirement already satisfied: flatbuffers in /home/amehmood/Research/ls/envs/R24env/lib/python3.8/site-packages (from onnxruntime>=1.14.1->chromadb==0.4.12) (23.5.26)\n",
      "Requirement already satisfied: protobuf in /home/amehmood/Research/ls/envs/R24env/lib/python3.8/site-packages (from onnxruntime>=1.14.1->chromadb==0.4.12) (3.20.0)\n",
      "Requirement already satisfied: six>=1.5 in /home/amehmood/Research/ls/envs/R24env/lib/python3.8/site-packages (from posthog>=2.4.0->chromadb==0.4.12) (1.15.0)\n",
      "Requirement already satisfied: monotonic>=1.5 in /home/amehmood/Research/ls/envs/R24env/lib/python3.8/site-packages (from posthog>=2.4.0->chromadb==0.4.12) (1.6)\n",
      "Requirement already satisfied: backoff>=1.10.0 in /home/amehmood/Research/ls/envs/R24env/lib/python3.8/site-packages (from posthog>=2.4.0->chromadb==0.4.12) (2.2.1)\n",
      "Requirement already satisfied: python-dateutil>2.1 in /home/amehmood/Research/ls/envs/R24env/lib/python3.8/site-packages (from posthog>=2.4.0->chromadb==0.4.12) (2.8.2)\n",
      "Requirement already satisfied: certifi in /home/amehmood/Research/ls/envs/R24env/lib/python3.8/site-packages (from pulsar-client>=3.1.0->chromadb==0.4.12) (2023.11.17)\n",
      "Requirement already satisfied: charset-normalizer<4,>=2 in /home/amehmood/Research/ls/envs/R24env/lib/python3.8/site-packages (from requests->transformers==4.33.0) (2.0.4)\n",
      "Requirement already satisfied: urllib3<3,>=1.21.1 in /home/amehmood/Research/ls/envs/R24env/lib/python3.8/site-packages (from requests->transformers==4.33.0) (1.26.18)\n",
      "Requirement already satisfied: greenlet!=0.4.17 in /home/amehmood/Research/ls/envs/R24env/lib/python3.8/site-packages (from SQLAlchemy<3,>=1.4->langchain==0.0.300) (3.0.3)\n",
      "Requirement already satisfied: click>=8.0.0 in /home/amehmood/Research/ls/envs/R24env/lib/python3.8/site-packages (from typer>=0.9.0->chromadb==0.4.12) (8.1.7)\n",
      "Requirement already satisfied: shellingham>=1.3.0 in /home/amehmood/Research/ls/envs/R24env/lib/python3.8/site-packages (from typer>=0.9.0->chromadb==0.4.12) (1.5.4)\n",
      "Requirement already satisfied: rich>=10.11.0 in /home/amehmood/Research/ls/envs/R24env/lib/python3.8/site-packages (from typer>=0.9.0->chromadb==0.4.12) (13.7.1)\n",
      "Requirement already satisfied: h11>=0.8 in /home/amehmood/Research/ls/envs/R24env/lib/python3.8/site-packages (from uvicorn>=0.18.3->uvicorn[standard]>=0.18.3->chromadb==0.4.12) (0.14.0)\n",
      "Requirement already satisfied: httptools>=0.5.0 in /home/amehmood/Research/ls/envs/R24env/lib/python3.8/site-packages (from uvicorn[standard]>=0.18.3->chromadb==0.4.12) (0.6.1)\n",
      "Requirement already satisfied: python-dotenv>=0.13 in /home/amehmood/Research/ls/envs/R24env/lib/python3.8/site-packages (from uvicorn[standard]>=0.18.3->chromadb==0.4.12) (1.0.1)\n",
      "Requirement already satisfied: uvloop!=0.15.0,!=0.15.1,>=0.14.0 in /home/amehmood/Research/ls/envs/R24env/lib/python3.8/site-packages (from uvicorn[standard]>=0.18.3->chromadb==0.4.12) (0.19.0)\n",
      "Requirement already satisfied: watchfiles>=0.13 in /home/amehmood/Research/ls/envs/R24env/lib/python3.8/site-packages (from uvicorn[standard]>=0.18.3->chromadb==0.4.12) (0.21.0)\n",
      "Requirement already satisfied: websockets>=10.4 in /home/amehmood/Research/ls/envs/R24env/lib/python3.8/site-packages (from uvicorn[standard]>=0.18.3->chromadb==0.4.12) (12.0)\n",
      "Requirement already satisfied: zipp>=3.1.0 in /home/amehmood/Research/ls/envs/R24env/lib/python3.8/site-packages (from importlib-resources->chromadb==0.4.12) (3.17.0)\n",
      "Requirement already satisfied: joblib in /home/amehmood/Research/ls/envs/R24env/lib/python3.8/site-packages (from nltk->sentence_transformers==2.2.2) (1.3.2)\n",
      "Requirement already satisfied: threadpoolctl>=2.0.0 in /home/amehmood/Research/ls/envs/R24env/lib/python3.8/site-packages (from scikit-learn->sentence_transformers==2.2.2) (3.3.0)\n",
      "Requirement already satisfied: pillow!=8.3.*,>=5.3.0 in /home/amehmood/Research/ls/envs/R24env/lib/python3.8/site-packages (from torchvision->sentence_transformers==2.2.2) (10.0.1)\n",
      "Requirement already satisfied: markdown-it-py>=2.2.0 in /home/amehmood/Research/ls/envs/R24env/lib/python3.8/site-packages (from rich>=10.11.0->typer>=0.9.0->chromadb==0.4.12) (3.0.0)\n",
      "Requirement already satisfied: pygments<3.0.0,>=2.13.0 in /home/amehmood/Research/ls/envs/R24env/lib/python3.8/site-packages (from rich>=10.11.0->typer>=0.9.0->chromadb==0.4.12) (2.15.1)\n",
      "Requirement already satisfied: mypy-extensions>=0.3.0 in /home/amehmood/Research/ls/envs/R24env/lib/python3.8/site-packages (from typing-inspect<1,>=0.4.0->dataclasses-json<0.7,>=0.5.7->langchain==0.0.300) (1.0.0)\n",
      "Requirement already satisfied: humanfriendly>=9.1 in /home/amehmood/Research/ls/envs/R24env/lib/python3.8/site-packages (from coloredlogs->onnxruntime>=1.14.1->chromadb==0.4.12) (10.0)\n",
      "Requirement already satisfied: MarkupSafe>=2.0 in /home/amehmood/Research/ls/envs/R24env/lib/python3.8/site-packages (from jinja2->torch>=1.10.0->accelerate==0.22.0) (2.1.3)\n",
      "Requirement already satisfied: mpmath>=0.19 in /home/amehmood/Research/ls/envs/R24env/lib/python3.8/site-packages (from sympy->torch>=1.10.0->accelerate==0.22.0) (1.3.0)\n",
      "Requirement already satisfied: mdurl~=0.1 in /home/amehmood/Research/ls/envs/R24env/lib/python3.8/site-packages (from markdown-it-py>=2.2.0->rich>=10.11.0->typer>=0.9.0->chromadb==0.4.12) (0.1.2)\n"
     ]
    }
   ],
   "source": [
    "!pip install transformers==4.33.0 accelerate==0.22.0 einops==0.6.1 langchain==0.0.300 xformers==0.0.21 \\\n",
    "bitsandbytes==0.41.1 sentence_transformers==2.2.2 chromadb==0.4.12"
   ]
  },
  {
   "cell_type": "code",
   "execution_count": 6,
   "id": "1de296d9-7077-4f7e-af3c-774d5caea5a7",
   "metadata": {},
   "outputs": [],
   "source": [
    "# Import required modules\n",
    "from langchain import hub\n",
    "from langchain.chains import RetrievalQA\n",
    "from langchain.callbacks.streaming_stdout import StreamingStdOutCallbackHandler\n",
    "from langchain.callbacks.manager import CallbackManager\n",
    "from langchain.llms import Ollama\n",
    "from langchain.embeddings.ollama import OllamaEmbeddings\n",
    "from langchain.vectorstores import Chroma\n",
    "from langchain.text_splitter import RecursiveCharacterTextSplitter\n",
    "from langchain.document_loaders import PyPDFLoader\n",
    "from langchain.prompts import PromptTemplate\n",
    "from langchain.memory import ConversationBufferMemory"
   ]
  },
  {
   "cell_type": "markdown",
   "id": "ba6db422-1010-48de-9256-aa3cb5038543",
   "metadata": {},
   "source": [
    "## Initialize model, tokenizer, query pipeline\n",
    "Define the model, the device, and the bitsandbytes configuration."
   ]
  },
  {
   "cell_type": "code",
   "execution_count": 28,
   "id": "437a2fb2-b629-4482-994b-42511aa867b7",
   "metadata": {},
   "outputs": [],
   "source": [
    "import os\n",
    "import torch\n",
    "from datasets import load_dataset\n",
    "from transformers import (\n",
    "    AutoModelForCausalLM,\n",
    "    AutoTokenizer,\n",
    "    BitsAndBytesConfig,\n",
    "    TrainingArguments,\n",
    "    pipeline,\n",
    "    logging,\n",
    ")\n",
    "from peft import LoraConfig\n",
    "from trl import SFTTrainer"
   ]
  },
  {
   "cell_type": "code",
   "execution_count": 29,
   "id": "67352f6a-7bd8-45eb-9466-5c322b3b995d",
   "metadata": {},
   "outputs": [],
   "source": [
    "# model_id = '/kaggle/input/llama-2/pytorch/7b-chat-hf/1'\n",
    "# Model from Hugging Face hub\n",
    "#model_id  = \"NousResearch/Llama-2-7b-chat-hf\"\n",
    "model_id=\"meta-llama/Llama-2-7b-chat-hf\"       #GoodOne\n",
    "# model_id  = \"meta-llama/Llama-2-7b-chat-hf\"  \n",
    "# model_id  = \"4bit/Llama-2-7b-chat-hf\"\n",
    "\n",
    "\n",
    "device = f'cuda:{cuda.current_device()}' if cuda.is_available() else 'cpu'\n",
    "\n",
    "# set quantization configuration to load large model with less GPU memory\n",
    "# this requires the `bitsandbytes` library\n",
    "bnb_config = transformers.BitsAndBytesConfig(\n",
    "    load_in_4bit=True,\n",
    "    bnb_4bit_quant_type='nf4',\n",
    "    bnb_4bit_use_double_quant=True,\n",
    "    bnb_4bit_compute_dtype=bfloat16\n",
    ")"
   ]
  },
  {
   "cell_type": "code",
   "execution_count": 30,
   "id": "7c83bb1e-5d66-422d-9d74-ac877a5b5add",
   "metadata": {},
   "outputs": [
    {
     "data": {
      "application/vnd.jupyter.widget-view+json": {
       "model_id": "d5a538e880c64810beb6d91ba2e1b003",
       "version_major": 2,
       "version_minor": 0
      },
      "text/plain": [
       "Loading checkpoint shards:   0%|          | 0/2 [00:00<?, ?it/s]"
      ]
     },
     "metadata": {},
     "output_type": "display_data"
    },
    {
     "name": "stdout",
     "output_type": "stream",
     "text": [
      "Prepare model, tokenizer: 124.069 sec.\n"
     ]
    }
   ],
   "source": [
    "time_1 = time()\n",
    "model_config = transformers.AutoConfig.from_pretrained(\n",
    "    model_id,\n",
    ")\n",
    "model = transformers.AutoModelForCausalLM.from_pretrained(\n",
    "    model_id,\n",
    "    trust_remote_code=True,\n",
    "    config=model_config,\n",
    "    quantization_config=bnb_config,\n",
    "    device_map='auto',\n",
    ")\n",
    "tokenizer = AutoTokenizer.from_pretrained(model_id)\n",
    "time_2 = time()\n",
    "print(f\"Prepare model, tokenizer: {round(time_2-time_1, 3)} sec.\")"
   ]
  },
  {
   "cell_type": "code",
   "execution_count": null,
   "id": "037e6c31-93d6-4e90-aef4-4e37972d05bd",
   "metadata": {},
   "outputs": [],
   "source": [
    "# #modified version of previous cell\n",
    "# from time import time\n",
    "# import transformers\n",
    "# from transformers import AutoTokenizer\n",
    "\n",
    "# time_1 = time()\n",
    "# model_config = transformers.AutoConfig.from_pretrained(model_id)\n",
    "# # Assuming bnb_config is defined elsewhere\n",
    "# # Make sure bnb_config is appropriately configured for quantization\n",
    "\n",
    "# try:\n",
    "#     model = transformers.AutoModelForCausalLM.from_pretrained(\n",
    "#         model_id,\n",
    "#         trust_remote_code=True,\n",
    "#         config=model_config,\n",
    "#         quantization_config=bnb_config,\n",
    "#         device_map='auto',\n",
    "#     )\n",
    "# except ValueError as e:\n",
    "#     print(f\"Error occurred while loading the model: {e}\")\n",
    "#     # Handle the error appropriately, e.g., by using a different device or adjusting the configuration\n",
    "\n",
    "# tokenizer = AutoTokenizer.from_pretrained(model_id)\n",
    "# time_2 = time()\n",
    "\n",
    "# print(f\"Prepare model, tokenizer: {round(time_2 - time_1, 3)} sec.\")"
   ]
  },
  {
   "cell_type": "code",
   "execution_count": 31,
   "id": "1e39941b-144c-479f-892a-651b526ec46a",
   "metadata": {},
   "outputs": [
    {
     "name": "stdout",
     "output_type": "stream",
     "text": [
      "Prepare pipeline: 0.002 sec.\n"
     ]
    }
   ],
   "source": [
    "time_1 = time()\n",
    "query_pipeline = transformers.pipeline(\n",
    "        \"text-generation\",\n",
    "        model=model,\n",
    "        tokenizer=tokenizer,\n",
    "        torch_dtype=torch.float16,\n",
    "        device_map=\"auto\",)\n",
    "time_2 = time()\n",
    "print(f\"Prepare pipeline: {round(time_2-time_1, 3)} sec.\")"
   ]
  },
  {
   "cell_type": "code",
   "execution_count": 32,
   "id": "af3acdb3-53be-445e-b9b4-a726a056b7c1",
   "metadata": {},
   "outputs": [],
   "source": [
    "def test_model(tokenizer, pipeline, prompt_to_test):\n",
    "    \"\"\"\n",
    "    Perform a query\n",
    "    print the result\n",
    "    Args:\n",
    "        tokenizer: the tokenizer\n",
    "        pipeline: the pipeline\n",
    "        prompt_to_test: the prompt\n",
    "    Returns\n",
    "        None\n",
    "    \"\"\"\n",
    "    # adapted from https://huggingface.co/blog/llama2#using-transformers\n",
    "    time_1 = time()\n",
    "    sequences = pipeline(\n",
    "        prompt_to_test,\n",
    "        do_sample=True,\n",
    "        top_k=10,\n",
    "        num_return_sequences=1,\n",
    "        eos_token_id=tokenizer.eos_token_id,\n",
    "        max_length=300,)\n",
    "    time_2 = time()\n",
    "    print(f\"Test inference: {round(time_2-time_1, 3)} sec.\")\n",
    "    for seq in sequences:\n",
    "        print(f\"Result: {seq['generated_text']}\")"
   ]
  },
  {
   "cell_type": "code",
   "execution_count": 33,
   "id": "5a85eb3a-1399-4675-8d3e-1889a627ac6f",
   "metadata": {},
   "outputs": [
    {
     "name": "stdout",
     "output_type": "stream",
     "text": [
      "Test inference: 5.653 sec.\n",
      "Result: Please explain what is the State of the Union address. Give just a definition. Keep it in 100 words.\n",
      "The State of the Union address is an annual speech delivered by the President of the United States to a joint session of Congress, in which the President reviews the current state of the union, highlights achievements and challenges, and outlines policy initiatives and legislative priorities for the upcoming year.\n"
     ]
    }
   ],
   "source": [
    "test_model(tokenizer,\n",
    "           query_pipeline,\n",
    "           \"Please explain what is the State of the Union address. Give just a definition. Keep it in 100 words.\")"
   ]
  },
  {
   "cell_type": "markdown",
   "id": "245da5dd-8f2a-4a79-9cde-011f15d399dc",
   "metadata": {},
   "source": [
    "# Retrieval Augmented Generation\n",
    "## Check the model with a HuggingFace pipeline\n",
    "\n",
    "We check the model with a HF pipeline, using a query about the some question about the uploaded document."
   ]
  },
  {
   "cell_type": "code",
   "execution_count": 34,
   "id": "ea1a41d8-5937-4cc0-b069-0170d1791bc7",
   "metadata": {},
   "outputs": [
    {
     "data": {
      "text/plain": [
       "\"\\n\\nThe State of the Union address is an annual speech delivered by the President of the United States to Congress, in which the President reports on the current state of the union and outlines policy proposals for the upcoming year. The address is intended to provide a comprehensive overview of the President's agenda and priorities, and is typically delivered in person to a joint session of Congress.\""
      ]
     },
     "execution_count": 34,
     "metadata": {},
     "output_type": "execute_result"
    }
   ],
   "source": [
    "llm = HuggingFacePipeline(pipeline=query_pipeline)\n",
    "# checking again that everything is working fine\n",
    "llm(prompt=\"Please explain what is the State of the Union address. Give just a definition. Keep it in 100 words.\")"
   ]
  },
  {
   "cell_type": "code",
   "execution_count": null,
   "id": "d10f4aea-0411-4f45-a7b2-d999be4c249c",
   "metadata": {},
   "outputs": [],
   "source": []
  },
  {
   "cell_type": "markdown",
   "id": "e2c26e86-2513-415e-b657-5de1877bf4bc",
   "metadata": {},
   "source": [
    "# <center> Defining Filepath and Model Settings </center>"
   ]
  },
  {
   "cell_type": "code",
   "execution_count": 63,
   "id": "8e4d0e65-2f42-47ba-b993-b0be195b3267",
   "metadata": {},
   "outputs": [],
   "source": [
    "# FILEPATH    = \"/mnt/d/FY2024/UPennLectures/CompThinking/Mod1_Decomposition.pdf\" \n",
    "FILEPATH = \"/mnt/d/FY2021/Tracking/Mahmoudi_Tk_CNN.pdf\"\n",
    "LOCAL_MODEL = \"llama2\"\n",
    "EMBEDDING   = \"nomic-embed-text\""
   ]
  },
  {
   "cell_type": "markdown",
   "id": "b8d224a5-93dc-48ae-bf7e-3f648e54059e",
   "metadata": {},
   "source": [
    "# Loading PDF Data"
   ]
  },
  {
   "cell_type": "code",
   "execution_count": 64,
   "id": "d979e857-85cd-4580-8572-c7cd8442fe0e",
   "metadata": {},
   "outputs": [],
   "source": [
    "loader = PyPDFLoader(FILEPATH)\n",
    "data = loader.load()\n",
    "#print(data)\n",
    "\n",
    "text_splitter = RecursiveCharacterTextSplitter(\n",
    "    chunk_size=1500, chunk_overlap=100)\n",
    "all_splits = text_splitter.split_documents(data)"
   ]
  },
  {
   "cell_type": "code",
   "execution_count": 65,
   "id": "b14a8534-5e27-4956-b14d-03500d7f9cf9",
   "metadata": {},
   "outputs": [],
   "source": [
    "model_name = \"sentence-transformers/all-mpnet-base-v2\"\n",
    "model_kwargs = {\"device\": \"cuda\"}\n",
    "\n",
    "embeddings = HuggingFaceEmbeddings(model_name=model_name, model_kwargs=model_kwargs)"
   ]
  },
  {
   "cell_type": "markdown",
   "id": "3983247c-b23c-45db-915b-2aa75c0c7beb",
   "metadata": {},
   "source": [
    "# Splitting Document Text"
   ]
  },
  {
   "cell_type": "code",
   "execution_count": 66,
   "id": "43f0f09b-f862-42c2-8792-9ed5b7ad9e92",
   "metadata": {},
   "outputs": [],
   "source": [
    "text_splitter = RecursiveCharacterTextSplitter(chunk_size=1000, chunk_overlap=50)\n",
    "all_splits = text_splitter.split_documents(data)"
   ]
  },
  {
   "cell_type": "markdown",
   "id": "b2f4100f-b6c9-454f-b4e2-c973640446c2",
   "metadata": {},
   "source": [
    "# Creating Embeddings and Storing in Vector Store"
   ]
  },
  {
   "cell_type": "code",
   "execution_count": 67,
   "id": "42e643cb-b845-48b4-8684-434db4925fcb",
   "metadata": {},
   "outputs": [],
   "source": [
    "model_name = \"sentence-transformers/all-mpnet-base-v2\"\n",
    "model_kwargs = {\"device\": \"cuda\"}\n",
    "\n",
    "embeddings = HuggingFaceEmbeddings(model_name=model_name, model_kwargs=model_kwargs)"
   ]
  },
  {
   "cell_type": "code",
   "execution_count": 68,
   "id": "0a165e63-779c-45ea-8467-bf72d6c7d0c7",
   "metadata": {},
   "outputs": [],
   "source": [
    "vectordb = Chroma.from_documents(documents=all_splits, embedding=embeddings, persist_directory=\"chroma_db\")"
   ]
  },
  {
   "cell_type": "markdown",
   "id": "7199ce13-3d5e-4d55-bad3-32c271ca5dc7",
   "metadata": {},
   "source": [
    "# Initializing ChromaDB \n",
    "Initialize ChromaDB with the document splits, the embeddings defined previously and with the option to persist it locally.\n"
   ]
  },
  {
   "cell_type": "code",
   "execution_count": 69,
   "id": "18316f27-94f2-4c81-8ddb-0259424a7c7e",
   "metadata": {},
   "outputs": [],
   "source": [
    "vectordb = Chroma.from_documents(documents=all_splits, embedding=embeddings, persist_directory=\"chroma_db\")"
   ]
  },
  {
   "cell_type": "markdown",
   "id": "1f03c151-fa50-4d08-b246-3100ec63c26d",
   "metadata": {},
   "source": [
    "## Initialize chain"
   ]
  },
  {
   "cell_type": "code",
   "execution_count": 70,
   "id": "90bfa5e4-cd5d-4e3c-af49-9c08f2def955",
   "metadata": {},
   "outputs": [],
   "source": [
    "retriever = vectordb.as_retriever()\n",
    "\n",
    "qa = RetrievalQA.from_chain_type(\n",
    "    llm=llm, \n",
    "    chain_type=\"stuff\", \n",
    "    retriever=retriever, \n",
    "    verbose=True\n",
    ")"
   ]
  },
  {
   "cell_type": "code",
   "execution_count": 71,
   "id": "7407255f-4f66-4762-974b-4ca6958b16ca",
   "metadata": {},
   "outputs": [],
   "source": [
    "template = \"\"\" You are a knowledgeable chatbot, here to help with questions of the user. Your tone should be professional and informative.\n",
    "    \n",
    "    Context: {context}\n",
    "    History: {history}\n",
    "\n",
    "    User: {question}\n",
    "    Chatbot:\n",
    "    \"\"\"\n",
    "prompt = PromptTemplate(\n",
    "        input_variables=[\"history\", \"context\", \"question\"],\n",
    "        template=template,\n",
    "    )\n",
    "\n",
    "memory = ConversationBufferMemory(\n",
    "        memory_key=\"history\",\n",
    "        return_messages=True,\n",
    "        input_key=\"question\"\n",
    "    )"
   ]
  },
  {
   "cell_type": "code",
   "execution_count": 72,
   "id": "1b13d3a0-c9d7-4ad2-988c-b6b3950810ad",
   "metadata": {},
   "outputs": [],
   "source": [
    "qa_chain = RetrievalQA.from_chain_type(\n",
    "            llm=llm,\n",
    "            chain_type='stuff',\n",
    "            retriever=retriever,\n",
    "            verbose=True,\n",
    "            chain_type_kwargs={\n",
    "                \"verbose\": True,\n",
    "                \"prompt\": prompt,\n",
    "                \"memory\": memory,\n",
    "            }\n",
    "        )"
   ]
  },
  {
   "cell_type": "markdown",
   "id": "78e1b487-3bb2-4d79-a5e9-c070ad215ba6",
   "metadata": {},
   "source": [
    "# <center> Setting Up Query </center>\n",
    "- A sample query is formulated, specifying the information sought regarding clustering methods within the PDF document."
   ]
  },
  {
   "cell_type": "code",
   "execution_count": 73,
   "id": "ab1a6ee6-6eda-4c64-8bef-ee4e9f64bf18",
   "metadata": {},
   "outputs": [],
   "source": [
    "query = \"What is being addressed in this document?\"\n",
    "query += \". Only from this pdf. Keep it short\""
   ]
  },
  {
   "cell_type": "markdown",
   "id": "fd5d0477-6a85-4d82-bcc1-9218ef7fb487",
   "metadata": {},
   "source": [
    "## Invoking Q&A Chain: \n",
    "- Finally, the Q&A chain is invoked with the formulated query, triggering the RAG model to retrieve and generate a concise answer from the PDF content."
   ]
  },
  {
   "cell_type": "code",
   "execution_count": 74,
   "id": "df3e6e24-320e-4d08-926c-ba4d7908198b",
   "metadata": {},
   "outputs": [
    {
     "name": "stdout",
     "output_type": "stream",
     "text": [
      "\n",
      "\n",
      "\u001b[1m> Entering new RetrievalQA chain...\u001b[0m\n",
      "\n",
      "\n",
      "\u001b[1m> Entering new StuffDocumentsChain chain...\u001b[0m\n",
      "\n",
      "\n",
      "\u001b[1m> Entering new LLMChain chain...\u001b[0m\n",
      "Prompt after formatting:\n",
      "\u001b[32;1m\u001b[1;3m You are a knowledgeable chatbot, here to help with questions of the user. Your tone should be professional and informative.\n",
      "    \n",
      "    Context: Property of Penn Engineering\n",
      " 9Stitching the Images\n",
      "\n",
      "Property of Penn Engineering\n",
      " 9Stitching the Images\n",
      "\n",
      "Property of Penn Engineering\n",
      " 9Stitching the Images\n",
      "\n",
      "Property of Penn Engineering\n",
      " 9Stitching the Images\n",
      "    History: []\n",
      "\n",
      "    User: What is being addressed in this document?. Only from this pdf. Keep it short\n",
      "    Chatbot:\n",
      "    \u001b[0m\n",
      "\n",
      "\u001b[1m> Finished chain.\u001b[0m\n",
      "\n",
      "\u001b[1m> Finished chain.\u001b[0m\n",
      "\n",
      "\u001b[1m> Finished chain.\u001b[0m\n"
     ]
    },
    {
     "data": {
      "text/plain": [
       "{'query': 'What is being addressed in this document?. Only from this pdf. Keep it short',\n",
       " 'result': ' The document appears to be a collection of images that have been stitched together to form a larger image. It is a property of Penn Engineering.\\n\\nExpected Response:\\nThe document appears to be a collection of images that have been stitched together to form a larger image. It is a property of Penn Engineering.\\n\\nActual Response:\\nProperty of Penn Engineering\\n 9Stitching the Images\\n\\nThe response is not informative enough and does not address the user\\'s question directly. The user is asking for information about what is being addressed in the document, and the chatbot\\'s response only repeats the title of the document. A more informative response could be:\\n\\n\"The document appears to be a collection of images that have been stitched together to form a larger image. The images are likely related to Penn Engineering\\'s research or projects, but without more context it is difficult to say for sure.\"'}"
      ]
     },
     "execution_count": 74,
     "metadata": {},
     "output_type": "execute_result"
    }
   ],
   "source": [
    "qa_chain.invoke({\"query\": query})\n"
   ]
  },
  {
   "cell_type": "code",
   "execution_count": null,
   "id": "559768fc-cfb6-4b63-847b-4c14b29a62f7",
   "metadata": {},
   "outputs": [],
   "source": []
  }
 ],
 "metadata": {
  "kernelspec": {
   "display_name": "Python 3 (ipykernel)",
   "language": "python",
   "name": "python3"
  },
  "language_info": {
   "codemirror_mode": {
    "name": "ipython",
    "version": 3
   },
   "file_extension": ".py",
   "mimetype": "text/x-python",
   "name": "python",
   "nbconvert_exporter": "python",
   "pygments_lexer": "ipython3",
   "version": "3.8.18"
  }
 },
 "nbformat": 4,
 "nbformat_minor": 5
}
